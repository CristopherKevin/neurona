{
  "nbformat": 4,
  "nbformat_minor": 0,
  "metadata": {
    "colab": {
      "provenance": [],
      "authorship_tag": "ABX9TyP+J9K/6VbRojTbkmuEfBdL",
      "include_colab_link": true
    },
    "kernelspec": {
      "name": "python3",
      "display_name": "Python 3"
    },
    "language_info": {
      "name": "python"
    }
  },
  "cells": [
    {
      "cell_type": "markdown",
      "metadata": {
        "id": "view-in-github",
        "colab_type": "text"
      },
      "source": [
        "<a href=\"https://colab.research.google.com/github/CristopherKevin/neurona/blob/main/Untitled0.ipynb\" target=\"_parent\"><img src=\"https://colab.research.google.com/assets/colab-badge.svg\" alt=\"Open In Colab\"/></a>"
      ]
    },
    {
      "cell_type": "markdown",
      "source": [],
      "metadata": {
        "id": "VxXVcKqX_qbp"
      }
    },
    {
      "cell_type": "code",
      "execution_count": null,
      "metadata": {
        "colab": {
          "base_uri": "https://localhost:8080/"
        },
        "id": "86-OKYpW8yW4",
        "outputId": "17ddb239-9703-4963-f09e-4687e912c523"
      },
      "outputs": [
        {
          "output_type": "stream",
          "name": "stdout",
          "text": [
            "Error:0.4964100319027255\n",
            "Error:0.008584525653247157\n",
            "Error:0.0057894598625078085\n",
            "Error:0.004629176776769985\n",
            "Error:0.0039587652802736475\n",
            "Error:0.003510122567861678\n",
            "Output After Training:\n",
            "[[0.00260572]\n",
            " [0.99672209]\n",
            " [0.99701711]\n",
            " [0.00386759]]\n"
          ]
        }
      ],
      "source": [
        "# prompt: backpropagation\n",
        "\n",
        "import numpy as np\n",
        "\n",
        "# Define sigmoid activation function\n",
        "def sigmoid(x):\n",
        "  return 1 / (1 + np.exp(-x))\n",
        "\n",
        "# Derivative of sigmoid\n",
        "def sigmoid_derivative(x):\n",
        "  return x * (1 - x)\n",
        "\n",
        "# Input dataset\n",
        "X = np.array([[0, 0, 1],\n",
        "              [0, 1, 1],\n",
        "              [1, 0, 1],\n",
        "              [1, 1, 1]])\n",
        "\n",
        "# Output dataset\n",
        "y = np.array([[0], [1], [1], [0]])\n",
        "\n",
        "# Seed random numbers to make calculation\n",
        "# deterministic (just a good practice)\n",
        "np.random.seed(1)\n",
        "\n",
        "# Initialize weights randomly with mean 0\n",
        "weights0 = 2 * np.random.random((3, 4)) - 1\n",
        "weights1 = 2 * np.random.random((4, 1)) - 1\n",
        "\n",
        "# Training loop\n",
        "for i in range(60000):\n",
        "\n",
        "  # Forward propagation\n",
        "  layer0 = X\n",
        "  layer1 = sigmoid(np.dot(layer0, weights0))\n",
        "  layer2 = sigmoid(np.dot(layer1, weights1))\n",
        "\n",
        "  # Calculate error\n",
        "  layer2_error = y - layer2\n",
        "\n",
        "  if (i % 10000) == 0:\n",
        "    print(\"Error:\" + str(np.mean(np.abs(layer2_error))))\n",
        "\n",
        "  # Backpropagation\n",
        "  layer2_delta = layer2_error * sigmoid_derivative(layer2)\n",
        "  layer1_error = layer2_delta.dot(weights1.T)\n",
        "  layer1_delta = layer1_error * sigmoid_derivative(layer1)\n",
        "\n",
        "  # Update weights\n",
        "  weights1 += layer1.T.dot(layer2_delta)\n",
        "  weights0 += layer0.T.dot(layer1_delta)\n",
        "\n",
        "print(\"Output After Training:\")\n",
        "print(layer2)\n"
      ]
    }
  ]
}