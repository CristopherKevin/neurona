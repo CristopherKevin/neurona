{
  "nbformat": 4,
  "nbformat_minor": 0,
  "metadata": {
    "colab": {
      "provenance": [],
      "authorship_tag": "ABX9TyNMPdkuJZ64bTjDQp6uoFHA",
      "include_colab_link": true
    },
    "kernelspec": {
      "name": "python3",
      "display_name": "Python 3"
    },
    "language_info": {
      "name": "python"
    }
  },
  "cells": [
    {
      "cell_type": "markdown",
      "metadata": {
        "id": "view-in-github",
        "colab_type": "text"
      },
      "source": [
        "<a href=\"https://colab.research.google.com/github/CristopherKevin/neurona/blob/main/Untitled0.ipynb\" target=\"_parent\"><img src=\"https://colab.research.google.com/assets/colab-badge.svg\" alt=\"Open In Colab\"/></a>"
      ]
    },
    {
      "cell_type": "markdown",
      "source": [],
      "metadata": {
        "id": "VxXVcKqX_qbp"
      }
    },
    {
      "cell_type": "code",
      "execution_count": 3,
      "metadata": {
        "id": "86-OKYpW8yW4"
      },
      "outputs": [],
      "source": [
        "\n"
      ]
    },
    {
      "cell_type": "code",
      "source": [
        "# prompt: un codigo que me de la potencia de 1 al 10\n",
        "\n",
        "for i in range(1, 11):\n",
        "  print(f\"Potencia de {i}: {i**2}\")\n"
      ],
      "metadata": {
        "colab": {
          "base_uri": "https://localhost:8080/"
        },
        "id": "x8pdU8oxFDzA",
        "outputId": "1c4e5f80-caee-4d60-b97a-7c916c3a81a4"
      },
      "execution_count": 4,
      "outputs": [
        {
          "output_type": "stream",
          "name": "stdout",
          "text": [
            "Potencia de 1: 1\n",
            "Potencia de 2: 4\n",
            "Potencia de 3: 9\n",
            "Potencia de 4: 16\n",
            "Potencia de 5: 25\n",
            "Potencia de 6: 36\n",
            "Potencia de 7: 49\n",
            "Potencia de 8: 64\n",
            "Potencia de 9: 81\n",
            "Potencia de 10: 100\n"
          ]
        }
      ]
    }
  ]
}